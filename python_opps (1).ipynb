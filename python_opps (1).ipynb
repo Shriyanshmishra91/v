{
  "cells": [
    {
      "cell_type": "code",
      "execution_count": null,
      "metadata": {
        "id": "wcGXinWI7lKI"
      },
      "outputs": [],
      "source": []
    },
    {
      "cell_type": "code",
      "execution_count": null,
      "metadata": {},
      "outputs": [],
      "source": []
    },
    {
      "cell_type": "code",
      "execution_count": null,
      "metadata": {
        "id": "A88lEOivTTcL"
      },
      "outputs": [],
      "source": []
    },
    {
      "cell_type": "code",
      "execution_count": null,
      "metadata": {
        "id": "pgGktwvCTVtC"
      },
      "outputs": [],
      "source": []
    },
    {
      "cell_type": "code",
      "execution_count": null,
      "metadata": {
        "id": "N0dS8RMUTWAD"
      },
      "outputs": [],
      "source": []
    },
    {
      "cell_type": "code",
      "execution_count": null,
      "metadata": {
        "id": "7efHIZGB9A-q"
      },
      "outputs": [],
      "source": []
    },
    {
      "cell_type": "markdown",
      "metadata": {
        "id": "kTGBk5ATS1M6"
      },
      "source": [
        "python opps question"
      ]
    },
    {
      "cell_type": "markdown",
      "metadata": {
        "id": "iSzBhJSJ7mmf"
      },
      "source": [
        "Ques1 what is object -orientend programing(opps)?\n",
        "\n",
        "Ans=object is oritenend programing paradigram based on the concpet object , which can contain data and code . the data is the from of fileds  and the code is the from of prodceress known as object- oritened  progrming . (opps) like class absectration objects\n",
        "\n",
        "\n",
        "Ques2 what is calss in opp?\n",
        "\n",
        "\n",
        "Ans=Class is a blueprint or template for cerating objects it defined the propties and the methods  that objects of that class will have . for example  a,\"car\" class define the propties like colours model and methodes like start , stops and acclerate .\n",
        "\n",
        "Ques3 what is objects in opp?\n",
        "\n",
        "Ans= Object opps : objects are instance of class that respresent real world entities.for examples a car can be  an objects  with propties like color , model , and model, and methods like start stop and acclerate.\n",
        "\n",
        "Ques4 what is the different between abstraction and encapsulation?\n",
        "\n",
        "emeAns= Abstraction: hiding complex implnatiton deatils and showing only essential informantionto the user .like using the start() method of the car without needing to know the engine's inner working.\n",
        "\n",
        "Enscapulation:bulinding data and methods that  operate on that data info a sing method untit typically a classor ob-ject\n",
        "\n",
        "\n",
        "Ques5 what are dunder methods in python?\n",
        "\n",
        "\n",
        " Ans= Dunder methods are specaial methods in python begin and end with dobule under score .\n",
        " example _init_,str,_length, they would provided a dfunction in function and should be opreators  theese method are allowed to python in deunder method.\n",
        "\n",
        "\n",
        " Ques6 explain the concpect of inheritance in opp?\n",
        "\n",
        " Ans=Inhertance refers to process of chile receveing the propties of pranetsclass syntax body of bassic class dervied class basic ,class\n",
        " #single interhance>> when a drevied class, has one parent class.\n",
        " #exampler\n",
        " class,father\n",
        " def,father,_property.(self):\n",
        " print(\"this is  the fathers,proptery,\")\n",
        "\n",
        "\n",
        "questiom7  Whatis polymorphisim opp.\n",
        "\n",
        "Ans=polymorpshim in opps takes, places in two aways. and that manny morphism means we make instance.\n",
        "\n",
        "#refers to an object takeing several forms depending of the method data.\n",
        "\n",
        "\n",
        "\n",
        "\n",
        "1Method over loading >>dosent support.\n",
        "#true  overriding\n",
        "\n",
        "#methodin over riding.\n",
        "\n",
        "Ques   8how is encapulastion  achived in python ?\n",
        "\n",
        "\n",
        "Ans Encapulation python\n",
        "\n",
        "Encapulation is thebulding  ofdata and method that are operate on data with asingle code untit , class , it resctives  dirct acess to some of an object in python.\n",
        "\n",
        "Acheving python  \n",
        "\n",
        "Prviate members\n",
        "\n",
        "members |(atturibute )or  double code, def_int,else, if, for and in under score.\n",
        "\n",
        "\n",
        "Ques9 What is constructor?\n",
        "\n",
        "Ans= python a constructor is asepical method with in a clas that is automactily excuted when  objects of  class is created its primary purpose is to intilze the objects atturibed with default or user defined valves.\n",
        "\n",
        "Ques 10  what are class and satic method in pyton?\n",
        "\n",
        "ans Class method:\n",
        "\n",
        "Defination:\n",
        "\n",
        "A classs  method is a method that is bouned to the class  and not the instanced of the class .it can acessed and modify  class- level vearibles but not instance level varibles.\n",
        "\n",
        "staticmethod decrocter used to define a staic  method. seatic method does not hove aces  to class  or self\n",
        "\n",
        "Ques12 wath is  metod ovver liuding in opp?.\n",
        "\n",
        "anss12 =method is overriding is feature that alllows a sub class to perovide alredy define in tt's  suoper class  when a method subclass same name , parameters and return type ,\n",
        "\n",
        "QUE11what is over loding method in opp?\n",
        "\n",
        "ans=Polmephsim: allows object of differnce claases to responde to the method call in differnt awalys.\n",
        "\n",
        "Ques13 what is property decorator in python ?\n",
        "\n",
        "Ans=In python the prperty decerrator is bulit  in function  that allows to use  defined method that act  like attruibtue it provides  a way to mange  the access and modefication of an object internal sate  while main ting  a clean and coisex  synatx.\n",
        "\n",
        "Ques14why is  polymorphsim imopytant in opps?\n",
        "\n",
        "Ans= #pollymorsphisims >> polly means maeans morphisms mean we make instancec\n",
        "\n",
        "refersto an object taking sevral forms depending tohe ,method in object \\ data examples \"ajay\"\n",
        "\n",
        "len\"ajay\"=4\n",
        "\n",
        "\n",
        "Qye15 what  is absctarct in python.\n",
        "\n",
        "ans=Abstraction in python  is away  to manege  complixity bybhinding  unnecessary deatial from  usr. it allows  interract with ennestinal iformantion only witout aout in unnder lying implemention .\n",
        "\n",
        "Ques16\n",
        "\n",
        "\n"
      ]
    },
    {
      "cell_type": "code",
      "execution_count": 1,
      "metadata": {
        "id": "DQmPoVdmY27C"
      },
      "outputs": [],
      "source": [
        "#partical question."
      ]
    },
    {
      "cell_type": "code",
      "execution_count": 2,
      "metadata": {
        "id": "MXBdvDvRzux7"
      },
      "outputs": [
        {
          "ename": "NameError",
          "evalue": "name 'i' is not defined",
          "output_type": "error",
          "traceback": [
            "\u001b[31m---------------------------------------------------------------------------\u001b[39m",
            "\u001b[31mNameError\u001b[39m                                 Traceback (most recent call last)",
            "\u001b[36mCell\u001b[39m\u001b[36m \u001b[39m\u001b[32mIn[2]\u001b[39m\u001b[32m, line 1\u001b[39m\n\u001b[32m----> \u001b[39m\u001b[32m1\u001b[39m \u001b[43mi\u001b[49m\u001b[38;5;66;03m#create a parent animal witha method speak () that prints age geneeric message create a child clas  dog  that ovveride the speak () mehod berak.\u001b[39;00m\n",
            "\u001b[31mNameError\u001b[39m: name 'i' is not defined"
          ]
        }
      ],
      "source": [
        "i#create a parent animal witha method speak () that prints age geneeric message create a child clas  dog  that ovveride the speak () mehod berak."
      ]
    },
    {
      "cell_type": "code",
      "execution_count": null,
      "metadata": {
        "id": "sy5lertRtypG"
      },
      "outputs": [],
      "source": []
    },
    {
      "cell_type": "code",
      "execution_count": null,
      "metadata": {
        "id": "JYUPW5p6aNvR"
      },
      "outputs": [],
      "source": []
    },
    {
      "cell_type": "code",
      "execution_count": null,
      "metadata": {
        "colab": {
          "base_uri": "https://localhost:8080/"
        },
        "id": "_fPynyn41KBh",
        "outputId": "54fd2a64-33da-456e-a757-d20f487d651e"
      },
      "outputs": [
        {
          "name": "stdout",
          "output_type": "stream",
          "text": [
            "Generic animal sound\n",
            "Woof!\n"
          ]
        }
      ],
      "source": [
        "class Animal:\n",
        "    def speak(self):\n",
        "        print(\"Generic animal sound\")\n",
        "\n",
        "class Dog(Animal):\n",
        "    def speak(self):\n",
        "        print(\"Woof!\")\n",
        "\n",
        "# Create instances of the classes\n",
        "animal = Animal()\n",
        "dog = Dog()\n",
        "\n",
        "# Call the speak() method on each instance\n",
        "animal.speak()  # Output: Generic animal sound\n",
        "dog.speak()  # Output: Woof!"
      ]
    },
    {
      "cell_type": "code",
      "execution_count": null,
      "metadata": {
        "id": "5c4Bm_f-29MZ"
      },
      "outputs": [],
      "source": [
        "#Write a program to create an abstract class shape with amehod aera() derive claseses cricle and rectangle from it implements the area() method in  both"
      ]
    },
    {
      "cell_type": "code",
      "execution_count": null,
      "metadata": {
        "colab": {
          "base_uri": "https://localhost:8080/"
        },
        "id": "bet6cxHa6eGm",
        "outputId": "955011e2-2595-4691-d626-37771acc6f88"
      },
      "outputs": [
        {
          "name": "stdout",
          "output_type": "stream",
          "text": [
            "Circle area: 78.53981633974483\n",
            "Rectangle area: 24\n"
          ]
        }
      ],
      "source": [
        "from abc import ABC, abstractmethod\n",
        "import math\n",
        "\n",
        "class Shape(ABC):  # Abstract base class\n",
        "    @abstractmethod\n",
        "    def area(self):\n",
        "        pass  # No implementation in the abstract class\n",
        "\n",
        "class Circle(Shape):\n",
        "    def __init__(self, radius):\n",
        "        self.radius = radius\n",
        "\n",
        "    def area(self):\n",
        "        return math.pi * self.radius**2\n",
        "\n",
        "class Rectangle(Shape):\n",
        "    def __init__(self, length, width):\n",
        "        self.length = length\n",
        "        self.width = width\n",
        "\n",
        "    def area(self):\n",
        "        return self.length * self.width\n",
        "\n",
        "# Create instances and calculate areas\n",
        "circle = Circle(5)\n",
        "rectangle = Rectangle(4, 6)\n",
        "\n",
        "print(f\"Circle area: {circle.area()}\")\n",
        "print(f\"Rectangle area: {rectangle.area()}\")"
      ]
    },
    {
      "cell_type": "code",
      "execution_count": null,
      "metadata": {
        "id": "t5vMpdv0Alcg"
      },
      "outputs": [],
      "source": []
    },
    {
      "cell_type": "code",
      "execution_count": null,
      "metadata": {
        "id": "oQgI7q3nBueq"
      },
      "outputs": [],
      "source": []
    },
    {
      "cell_type": "code",
      "execution_count": null,
      "metadata": {
        "colab": {
          "base_uri": "https://localhost:8080/"
        },
        "id": "gKdq3EjkAiKx",
        "outputId": "cbe38c81-ad84-465c-aa10-1823ae183dc2"
      },
      "outputs": [
        {
          "name": "stdout",
          "output_type": "stream",
          "text": [
            "Generic bird flying\n",
            "Sparrow flying\n",
            "Penguins can't fly, they waddle\n"
          ]
        }
      ],
      "source": [
        "class Bird:\n",
        "    def fly(self):\n",
        "        print(\"Generic bird flying\")\n",
        "\n",
        "class Sparrow(Bird):\n",
        "    def fly(self):\n",
        "        print(\"Sparrow flying\")\n",
        "\n",
        "class Penguin(Bird):\n",
        "    def fly(self):\n",
        "        print(\"Penguins can't fly, they waddle\")\n",
        "\n",
        "# Create instances of the classes\n",
        "bird = Bird()\n",
        "sparrow = Sparrow()\n",
        "penguin = Penguin()\n",
        "\n",
        "# Call the fly() method on each instance\n",
        "bird.fly()  # Output: Generic bird flying\n",
        "sparrow.fly()  # Output: Sparrow flying\n",
        "penguin.fly()  # Output: Penguins can't fly, they waddle"
      ]
    },
    {
      "cell_type": "code",
      "execution_count": null,
      "metadata": {
        "colab": {
          "base_uri": "https://localhost:8080/"
        },
        "id": "qel0FE1R-lGZ",
        "outputId": "ecbcefaf-8919-4b95-c55c-372a98761c90"
      },
      "outputs": [
        {
          "name": "stdout",
          "output_type": "stream",
          "text": [
            "Electric\n",
            "Tesla Model S\n",
            "100kWh\n"
          ]
        }
      ],
      "source": [
        "class Vehicle:\n",
        "    def __init__(self, type):\n",
        "        self.type = type\n",
        "\n",
        "class Car(Vehicle):\n",
        "    def __init__(self, type, model):\n",
        "        super().__init__(type)  # Call the parent class's __init__\n",
        "        self.model = model\n",
        "\n",
        "class ElectricCar(Car):\n",
        "    def __init__(self, type, model, battery):\n",
        "        super().__init__(type, model)  # Call the parent class's __init__\n",
        "        self.battery = battery\n",
        "\n",
        "# Create an instance of ElectricCar\n",
        "my_electric_car = ElectricCar(\"Electric\", \"Tesla Model S\", \"100kWh\")\n",
        "\n",
        "# Access attributes\n",
        "print(my_electric_car.type)  # Output: Electric\n",
        "print(my_electric_car.model)  # Output: Tesla Model S\n",
        "print(my_electric_car.battery)  # Output: 100kWh"
      ]
    },
    {
      "cell_type": "code",
      "execution_count": null,
      "metadata": {
        "id": "LFbiY-X2BwMA"
      },
      "outputs": [],
      "source": []
    },
    {
      "cell_type": "code",
      "execution_count": null,
      "metadata": {
        "colab": {
          "base_uri": "https://localhost:8080/"
        },
        "id": "e21dozq6ByjI",
        "outputId": "67442fba-7c64-4182-88c0-9881b9f0363d"
      },
      "outputs": [
        {
          "name": "stdout",
          "output_type": "stream",
          "text": [
            "Deposited 500. New balance: 1500\n",
            "Withdrew 200. New balance: 1300\n",
            "Current balance: 1300\n"
          ]
        }
      ],
      "source": [
        "class BankAccount:\n",
        "    def __init__(self, initial_balance=0):\n",
        "        self.__balance = initial_balance  # Private attribute\n",
        "\n",
        "    def deposit(self, amount):\n",
        "        if amount > 0:\n",
        "            self.__balance += amount\n",
        "            print(f\"Deposited {amount}. New balance: {self.__balance}\")\n",
        "        else:\n",
        "            print(\"Invalid deposit amount.\")\n",
        "\n",
        "    def withdraw(self, amount):\n",
        "        if 0 < amount <= self.__balance:\n",
        "            self.__balance -= amount\n",
        "            print(f\"Withdrew {amount}. New balance: {self.__balance}\")\n",
        "        else:\n",
        "            print(\"Insufficient funds or invalid withdrawal amount.\")\n",
        "\n",
        "    def check_balance(self):\n",
        "        print(f\"Current balance: {self.__balance}\")\n",
        "\n",
        "# Create an account\n",
        "account = BankAccount(1000)\n",
        "\n",
        "# Perform operations\n",
        "account.deposit(500)\n",
        "account.withdraw(200)\n",
        "account.check_balance()"
      ]
    },
    {
      "cell_type": "code",
      "execution_count": null,
      "metadata": {
        "id": "67wi8Gu-Cwox"
      },
      "outputs": [],
      "source": []
    },
    {
      "cell_type": "code",
      "execution_count": null,
      "metadata": {
        "id": "OkSXhHtOTZfq"
      },
      "outputs": [],
      "source": []
    },
    {
      "cell_type": "code",
      "execution_count": null,
      "metadata": {
        "colab": {
          "base_uri": "https://localhost:8080/"
        },
        "id": "Nj6A3WfiCxcQ",
        "outputId": "6259f026-ee47-4ff6-fd82-379e890de191"
      },
      "outputs": [
        {
          "name": "stdout",
          "output_type": "stream",
          "text": [
            "Generic instrument sound\n",
            "Strumming the guitar\n",
            "Playing the piano keys\n"
          ]
        }
      ],
      "source": [
        "class Instrument:\n",
        "    def play(self):\n",
        "        print(\"Generic instrument sound\")\n",
        "\n",
        "class Guitar(Instrument):\n",
        "    def play(self):\n",
        "        print(\"Strumming the guitar\")\n",
        "\n",
        "class Piano(Instrument):\n",
        "    def play(self):\n",
        "        print(\"Playing the piano keys\")\n",
        "\n",
        "# Create instances of the classes\n",
        "instrument = Instrument()\n",
        "guitar = Guitar()\n",
        "piano = Piano()\n",
        "\n",
        "# Call the play() method on each instance\n",
        "instrument.play()  # Output: Generic instrument sound\n",
        "guitar.play()  # Output: Strumming the guitar\n",
        "piano.play()  # Output: Playing the piano keys"
      ]
    },
    {
      "cell_type": "code",
      "execution_count": null,
      "metadata": {
        "id": "6S3HL1nSTxMr"
      },
      "outputs": [],
      "source": [
        " # create"
      ]
    },
    {
      "cell_type": "code",
      "execution_count": null,
      "metadata": {
        "id": "LsDgJKLmV_67"
      },
      "outputs": [],
      "source": [
        "class MathOperators:\n",
        "    @classmethod\n",
        "    def add_numbers(cls, num1, num2):\n",
        "        return num1 + num2\n",
        "\n",
        "    @staticmethod\n",
        "    def subtract_numbers(num1, num2):\n",
        "        return num1 - num2\n",
        "\n",
        "# Example usage:\n",
        "result_add = MathOperators.add_numbers(5, 3)  # Using class method\n",
        "result_subtract = MathOperators.subtract_numbers(10, 4)  # Using static method\n",
        "\n",
        "#To see the output, run the code."
      ]
    },
    {
      "cell_type": "code",
      "execution_count": null,
      "metadata": {
        "id": "eSz0iKl7WiY7"
      },
      "outputs": [],
      "source": [
        "class Person:\n",
        "    person_count = 0  # Class variable to store the count\n",
        "\n",
        "    def __init__(self, name, age):\n",
        "        self.name = name\n",
        "        self.age = age\n",
        "        Person.person_count += 1  # Increment count when a new person is created\n",
        "\n",
        "    @classmethod\n",
        "    def get_person_count(cls):\n",
        "        return cls.person_count\n",
        "\n",
        "# Example usage:\n",
        "person1 = Person(\"Alice\", 30)\n",
        "person2 = Person(\"Bob\", 25)\n",
        "\n",
        "total_persons = Person.get_person_count()\n",
        "#To see the output, run the code."
      ]
    },
    {
      "cell_type": "code",
      "execution_count": null,
      "metadata": {
        "colab": {
          "base_uri": "https://localhost:8080/"
        },
        "id": "h4uyoiH5XRFz",
        "outputId": "588dc853-3ed7-475a-cd3a-56523127728a"
      },
      "outputs": [
        {
          "name": "stdout",
          "output_type": "stream",
          "text": [
            "3/4\n"
          ]
        }
      ],
      "source": [
        "class Fraction:\n",
        "    def __init__(self, numerator, denominator):\n",
        "        self.numerator = numerator\n",
        "        self.denominator = denominator\n",
        "\n",
        "    def __str__(self):\n",
        "        return f\"{self.numerator}/{self.denominator}\"\n",
        "\n",
        "# Example usage\n",
        "fraction = Fraction(3, 4)\n",
        "print(fraction)  # Output: 3/4"
      ]
    },
    {
      "cell_type": "code",
      "execution_count": null,
      "metadata": {
        "colab": {
          "base_uri": "https://localhost:8080/"
        },
        "id": "rCqoyZdaX0RC",
        "outputId": "6aab9df8-5bff-4c71-b0d9-73bba4f3324f"
      },
      "outputs": [
        {
          "name": "stdout",
          "output_type": "stream",
          "text": [
            "v1: (2, 3)\n",
            "v2: (4, 5)\n",
            "v1 + v2: (6, 8)\n"
          ]
        }
      ],
      "source": [
        "class Vector:\n",
        "    def __init__(self, x, y):\n",
        "        self.x = x\n",
        "        self.y = y\n",
        "\n",
        "    def __add__(self, other):\n",
        "        return Vector(self.x + other.x, self.y + other.y)\n",
        "\n",
        "    def __str__(self):\n",
        "        return f\"({self.x}, {self.y})\"\n",
        "\n",
        "# Example usage\n",
        "v1 = Vector(2, 3)\n",
        "v2 = Vector(4, 5)\n",
        "v3 = v1 + v2  # Using the overloaded + operator\n",
        "\n",
        "print(f\"v1: {v1}\")\n",
        "print(f\"v2: {v2}\")\n",
        "print(f\"v1 + v2: {v3}\")"
      ]
    },
    {
      "cell_type": "code",
      "execution_count": null,
      "metadata": {
        "colab": {
          "base_uri": "https://localhost:8080/"
        },
        "id": "sa8-QBG0Ynhq",
        "outputId": "1e623c32-1807-4b05-ae53-7c2723f8befa"
      },
      "outputs": [
        {
          "name": "stdout",
          "output_type": "stream",
          "text": [
            "Hello, my name is shriyans, and I am 18 years old.\n"
          ]
        }
      ],
      "source": [
        "class Person:\n",
        "    def __init__(self, name, age):\n",
        "        self.name = name\n",
        "        self.age = age\n",
        "\n",
        "    def greet(self):\n",
        "        print(f\"Hello, my name is {self.name}, and I am {self.age} years old.\")\n",
        "\n",
        "# Example usage:\n",
        "person = Person(\"shriyans\", 18)\n",
        "person.greet()  # Output: Hello, my name is Alice, and I am 30 years old."
      ]
    },
    {
      "cell_type": "code",
      "execution_count": null,
      "metadata": {
        "id": "PYP4wW8naP3J"
      },
      "outputs": [],
      "source": []
    },
    {
      "cell_type": "code",
      "execution_count": null,
      "metadata": {
        "id": "5gS3ArWTaQsJ"
      },
      "outputs": [],
      "source": [
        "class Student:\n",
        "    def __init__(self, name):\n",
        "        self.name = name\n",
        "        self.grades = []  # Initialize an empty list to store grades\n",
        "\n",
        "    def add_grade(self, grade):\n",
        "        self.grades.append(grade)\n",
        "\n",
        "    def average_grade(self):\n",
        "        if not self.grades:  # Check if grades list is empty\n",
        "            return 0  # Return 0 if no grades are available\n",
        "        else:\n",
        "            return sum(self.grades) / len(self.grades)\n",
        "\n",
        "# Example usage:\n",
        "student = Student(\"Alice\")\n",
        "student.add_grade(85)\n",
        "student.add_grade(92)\n",
        "student.add_grade(78)\n",
        "\n",
        "average = student.average_grade()\n",
        "#to see the oput run the code."
      ]
    },
    {
      "cell_type": "code",
      "execution_count": null,
      "metadata": {
        "colab": {
          "base_uri": "https://localhost:8080/"
        },
        "id": "YYSABUhWah7Z",
        "outputId": "3d049657-6567-4e7c-aed0-1b1a2b0b6732"
      },
      "outputs": [
        {
          "name": "stdout",
          "output_type": "stream",
          "text": [
            "85.0\n"
          ]
        }
      ],
      "source": [
        "print(average)"
      ]
    },
    {
      "cell_type": "code",
      "execution_count": 6,
      "metadata": {},
      "outputs": [
        {
          "name": "stdout",
          "output_type": "stream",
          "text": [
            "Area of rectangle: <function Rectangle.area at 0x000001BD956D7A60>\n",
            "Area of rectangle: 20\n"
          ]
        }
      ],
      "source": [
        "#create aclass rectangle with amethodset_dimennsion() to set the dimenission and area() to calcute the aera\n",
        "class Rectangle:\n",
        "    def __init__(self):\n",
        "        self.length = 4\n",
        "        self.width = 5\n",
        "\n",
        "    def set_dimensions(self, length, width):\n",
        "        self.length = length\n",
        "        self.width = width\n",
        "\n",
        "    def area(self):\n",
        "        return self.length * self.width\n",
        "    print(\"Area of rectangle:\", area)\n",
        "    # Example usage:\n",
        "    rect = Rectangle()\n",
        "    rect.set_dimensions(4, 5)\n",
        "    area = rect.area()\n",
        "    print(\"Area of rectangle:\", area)  # Output: Area of rectangle: 20"
      ]
    },
    {
      "cell_type": "code",
      "execution_count": null,
      "metadata": {},
      "outputs": [],
      "source": []
    },
    {
      "cell_type": "code",
      "execution_count": null,
      "metadata": {},
      "outputs": [],
      "source": []
    }
  ],
  "metadata": {
    "colab": {
      "provenance": []
    },
    "kernelspec": {
      "display_name": "Python 3",
      "name": "python3"
    },
    "language_info": {
      "codemirror_mode": {
        "name": "ipython",
        "version": 3
      },
      "file_extension": ".py",
      "mimetype": "text/x-python",
      "name": "python",
      "nbconvert_exporter": "python",
      "pygments_lexer": "ipython3",
      "version": "3.12.10"
    }
  },
  "nbformat": 4,
  "nbformat_minor": 0
}
